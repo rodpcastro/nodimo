{
 "cells": [
  {
   "cell_type": "markdown",
   "id": "2bf7f295-a6ea-4a4c-aa4c-df1bf5eb8bf0",
   "metadata": {},
   "source": [
    "# Simple Pendulum"
   ]
  },
  {
   "cell_type": "code",
   "execution_count": 1,
   "id": "7a1def50-c317-4ae6-946b-0a2a206cbf87",
   "metadata": {},
   "outputs": [],
   "source": [
    "from nodimo import Variable, NonDimensionalModel"
   ]
  },
  {
   "cell_type": "code",
   "execution_count": 2,
   "id": "9ee7753b-6d3d-499b-b7d2-391d2718ddcd",
   "metadata": {},
   "outputs": [],
   "source": [
    "T = Variable('T', M=0, L=0, T=1, dependent=True)\n",
    "L = Variable('L', M=0, L=1, T=0, scaling=True)\n",
    "m = Variable('m', M=1, L=0, T=0)\n",
    "g = Variable('g', M=0, L=1, T=-2, scaling=True)\n",
    "t0 = Variable('theta_0')"
   ]
  },
  {
   "cell_type": "code",
   "execution_count": 3,
   "id": "e4043a4b-b956-42d9-b884-ef519758cf05",
   "metadata": {},
   "outputs": [
    {
     "name": "stdout",
     "output_type": "stream",
     "text": [
      "Variables that can not be part of the model:\n",
      "    m\n",
      "Dimensions that can not be part of the model:\n",
      "    M\n"
     ]
    }
   ],
   "source": [
    "ndmodel = NonDimensionalModel(T, L, m, g, t0)"
   ]
  },
  {
   "cell_type": "code",
   "execution_count": 4,
   "id": "fb680038-e417-4d3c-8758-0b01c97d455d",
   "metadata": {},
   "outputs": [
    {
     "data": {
      "text/latex": [
       "$\\displaystyle \\frac{T g^{\\frac{1}{2}}}{L^{\\frac{1}{2}}} = \\Pi{\\left(\\theta_{0} \\right)}$"
      ],
      "text/plain": [
       "T⋅√g        \n",
       "──── = Π(θ₀)\n",
       " √L         "
      ]
     },
     "metadata": {},
     "output_type": "display_data"
    }
   ],
   "source": [
    "ndmodel.show()"
   ]
  },
  {
   "cell_type": "code",
   "execution_count": 5,
   "id": "fdb2234d-4c05-453d-b808-728cc3c55dd0",
   "metadata": {},
   "outputs": [],
   "source": [
    "group = ndmodel.nondimensional_groups[0]"
   ]
  },
  {
   "cell_type": "code",
   "execution_count": 6,
   "id": "96890b66-079a-4f79-bc0c-f8d774b7e0c2",
   "metadata": {},
   "outputs": [],
   "source": [
    "import IPython\n",
    "from IPython.display import Math\n",
    "import sympy as sp"
   ]
  },
  {
   "cell_type": "code",
   "execution_count": 7,
   "id": "fd004698-19e5-4b47-87e6-4955c889b1c0",
   "metadata": {},
   "outputs": [
    {
     "data": {
      "text/html": [
       "<style>.output_result { max-width:100% !important; }</style>"
      ],
      "text/plain": [
       "<IPython.core.display.HTML object>"
      ]
     },
     "metadata": {},
     "output_type": "display_data"
    }
   ],
   "source": [
    "from IPython.display import display, HTML, Math\n",
    "display(HTML(\"<style>.output_result { max-width:100% !important; }</style>\"))"
   ]
  },
  {
   "cell_type": "code",
   "execution_count": 8,
   "id": "d3d8c567-6485-4d38-a018-217249a525dc",
   "metadata": {},
   "outputs": [
    {
     "data": {
      "text/latex": [
       "$\\displaystyle \\frac{T g^{\\frac{1}{2}}}{L^{\\frac{1}{2}}}$"
      ],
      "text/plain": [
       "T⋅√g\n",
       "────\n",
       " √L "
      ]
     },
     "execution_count": 8,
     "metadata": {},
     "output_type": "execute_result"
    }
   ],
   "source": [
    "group"
   ]
  },
  {
   "cell_type": "code",
   "execution_count": 9,
   "id": "433d36f2-1689-4098-9e73-e8ab002596a3",
   "metadata": {},
   "outputs": [],
   "source": [
    "ltx = r'\\begin{matrix} 1 & 2 & 3\\\\ a & b & c \\\\ a & b & c \\end{matrix}'"
   ]
  },
  {
   "cell_type": "code",
   "execution_count": 10,
   "id": "38c3f6e8-13a5-4486-b545-e4dc47139606",
   "metadata": {},
   "outputs": [],
   "source": [
    "matrix = Math(ltx)"
   ]
  },
  {
   "cell_type": "code",
   "execution_count": 11,
   "id": "be35e917-a799-45d9-bce4-b5ac07102940",
   "metadata": {},
   "outputs": [
    {
     "data": {
      "text/html": [
       "<style>:root { --jp-notebook-max-height: 100% !important; }</style>"
      ],
      "text/plain": [
       "<IPython.core.display.HTML object>"
      ]
     },
     "metadata": {},
     "output_type": "display_data"
    }
   ],
   "source": [
    "from IPython.display import display, HTML\n",
    "display(HTML(\"<style>:root { --jp-notebook-max-height: 100% !important; }</style>\"))"
   ]
  },
  {
   "cell_type": "code",
   "execution_count": 12,
   "id": "1be84563-f2b5-452a-99b6-e3720bab8a70",
   "metadata": {},
   "outputs": [
    {
     "data": {
      "text/html": [
       "<style>.jp-CodeCell.jp-mod-outputsScrolled .jp-Cell-outputArea { max-height: 44em; }</style>"
      ],
      "text/plain": [
       "<IPython.core.display.HTML object>"
      ]
     },
     "metadata": {},
     "output_type": "display_data"
    }
   ],
   "source": [
    "from IPython.display import display, HTML\n",
    "display(HTML(\"<style>.jp-CodeCell.jp-mod-outputsScrolled .jp-Cell-outputArea { max-height: 44em; }</style>\"))"
   ]
  },
  {
   "cell_type": "code",
   "execution_count": 13,
   "id": "2ecfdfb3-17dc-413e-b143-233e8d547e1c",
   "metadata": {},
   "outputs": [
    {
     "data": {
      "text/latex": [
       "$\\displaystyle \\begin{matrix} 1 & 2 & 3\\\\ a & b & c \\\\ a & b & c \\end{matrix}$"
      ],
      "text/plain": [
       "<IPython.core.display.Math object>"
      ]
     },
     "execution_count": 13,
     "metadata": {},
     "output_type": "execute_result"
    }
   ],
   "source": [
    "matrix"
   ]
  },
  {
   "cell_type": "code",
   "execution_count": 14,
   "id": "bd83c721-1468-4073-8204-6eefd64907f0",
   "metadata": {},
   "outputs": [
    {
     "data": {
      "text/html": [
       "\n",
       "<style>\n",
       ".output {\n",
       "    overflow: visible !important;\n",
       "}\n",
       "</style>\n",
       "$$\\begin{bmatrix} 1 & 2 & 3 \\\\ 4 & 5 & 6 \\\\ 7 & 8 & 9 \\end{bmatrix}$$"
      ],
      "text/plain": [
       "<IPython.core.display.HTML object>"
      ]
     },
     "execution_count": 14,
     "metadata": {},
     "output_type": "execute_result"
    }
   ],
   "source": [
    "from IPython.display import HTML\n",
    "\n",
    "# Define your LaTeX string\n",
    "latex_string = r'\\begin{bmatrix} 1 & 2 & 3 \\\\ 4 & 5 & 6 \\\\ 7 & 8 & 9 \\end{bmatrix}'\n",
    "\n",
    "# Define the CSS style to remove the scrollbar\n",
    "css_style = \"\"\"\n",
    "<style>\n",
    ".output {\n",
    "    overflow: visible !important;\n",
    "}\n",
    "</style>\n",
    "\"\"\"\n",
    "\n",
    "# Display the matrix using LaTeX with the custom CSS style\n",
    "HTML(css_style + '$$' + latex_string + '$$')"
   ]
  },
  {
   "cell_type": "code",
   "execution_count": 18,
   "id": "09de2ba8-ed13-46bf-9c5e-2326a4df0be3",
   "metadata": {},
   "outputs": [],
   "source": [
    "group_ltx = sp.latex(group, root_notation=False)"
   ]
  },
  {
   "cell_type": "code",
   "execution_count": 19,
   "id": "ca2f6985-753d-4a11-ac89-a11e58c1ae3f",
   "metadata": {},
   "outputs": [
    {
     "data": {
      "text/html": [
       "\n",
       "<style>\n",
       ".output {\n",
       "    overflow: visible !important;\n",
       "}\n",
       "</style>\n",
       "$$\\frac{T g^{\\frac{1}{2}}}{L^{\\frac{1}{2}}}$$"
      ],
      "text/plain": [
       "<IPython.core.display.HTML object>"
      ]
     },
     "execution_count": 19,
     "metadata": {},
     "output_type": "execute_result"
    }
   ],
   "source": [
    "HTML(css_style + '$$' + group_ltx + '$$')"
   ]
  },
  {
   "cell_type": "code",
   "execution_count": null,
   "id": "249986e9-3c62-4940-bad7-e41a64da2831",
   "metadata": {},
   "outputs": [],
   "source": []
  }
 ],
 "metadata": {
  "kernelspec": {
   "display_name": "Python 3 (ipykernel)",
   "language": "python",
   "name": "python3"
  },
  "language_info": {
   "codemirror_mode": {
    "name": "ipython",
    "version": 3
   },
   "file_extension": ".py",
   "mimetype": "text/x-python",
   "name": "python",
   "nbconvert_exporter": "python",
   "pygments_lexer": "ipython3",
   "version": "3.11.0"
  }
 },
 "nbformat": 4,
 "nbformat_minor": 5
}
