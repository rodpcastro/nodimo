{
 "cells": [
  {
   "cell_type": "markdown",
   "id": "2bf7f295-a6ea-4a4c-aa4c-df1bf5eb8bf0",
   "metadata": {},
   "source": [
    "# Simple Pendulum\n",
    "\n",
    "The objective here is to obtain an alternative relation of dimensionless quantities that represents the pendulum's period `T` as a function of the the other quantities depicted in the figure below.\n",
    "\n",
    "<center><img src=\"drawings/01_simple_pendulum.svg\" width=\"250\"/></center>\n",
    "\n",
    "We start by importing the necessary classes from `nodimo`:"
   ]
  },
  {
   "cell_type": "code",
   "execution_count": 1,
   "id": "5d330b07-1f02-4951-babc-22803c6deefe",
   "metadata": {
    "nbsphinx": "hidden"
   },
   "outputs": [],
   "source": [
    "import os\n",
    "import sys\n",
    "nodimo_path = os.path.abspath(os.path.join('../..'))\n",
    "if nodimo_path not in sys.path:\n",
    "    sys.path.append(nodimo_path)"
   ]
  },
  {
   "cell_type": "code",
   "execution_count": 2,
   "id": "7a1def50-c317-4ae6-946b-0a2a206cbf87",
   "metadata": {},
   "outputs": [],
   "source": [
    "from nodimo import Quantity, Model"
   ]
  },
  {
   "cell_type": "markdown",
   "id": "6e1093dc-d5dd-4b1e-8211-85f4df115e42",
   "metadata": {},
   "source": [
    "Next, we define the quantities that compose the problem. Note the arguments used:\n",
    "\n",
    "* The arguments `M`, `L` and `T` represent the dimensions Mass, Length and Time, respectively\n",
    "* The Period `T` is the dependent quantity, hence the argument `dependent=True`\n",
    "* The quantities `L` and `g` are used as scaling parameters, therefore the argument `scaling=True`"
   ]
  },
  {
   "cell_type": "code",
   "execution_count": 3,
   "id": "9ee7753b-6d3d-499b-b7d2-391d2718ddcd",
   "metadata": {},
   "outputs": [],
   "source": [
    "T = Quantity('T', M=0, L=0, T=1, dependent=True)  # Period\n",
    "L = Quantity('L', M=0, L=1, T=0, scaling=True)    # Length\n",
    "m = Quantity('m', M=1, L=0, T=0)                  # Mass\n",
    "g = Quantity('g', M=0, L=1, T=-2, scaling=True)   # Gravity\n",
    "t0 = Quantity('theta_0')                          # Initial angle"
   ]
  },
  {
   "cell_type": "markdown",
   "id": "231cde5c-0ba4-44e3-bb29-e095bab3be83",
   "metadata": {},
   "source": [
    "Finally, the dimensionless model is defined. Note that, in the output of the cell, `nodimo` detects that the quantity `m` can not be part of the model, because the dimension `M` is not common among the group of quantities."
   ]
  },
  {
   "cell_type": "code",
   "execution_count": 4,
   "id": "e4043a4b-b956-42d9-b884-ef519758cf05",
   "metadata": {},
   "outputs": [
    {
     "name": "stderr",
     "output_type": "stream",
     "text": [
      "\u001b[93mNodimoWarning\u001b[0m: Dimensionally irrelevant quantities (m)\n"
     ]
    }
   ],
   "source": [
    "model = Model(T, L, m, g, t0)"
   ]
  },
  {
   "cell_type": "markdown",
   "id": "289ef4e7-2b5a-410e-a1cb-6e0fb4fade0e",
   "metadata": {},
   "source": [
    "The dimensional and dimensionless relations can be displayed by:"
   ]
  },
  {
   "cell_type": "code",
   "execution_count": 5,
   "id": "fb680038-e417-4d3c-8758-0b01c97d455d",
   "metadata": {},
   "outputs": [
    {
     "data": {
      "text/html": [
       "<style>.jp-OutputArea-output{overflow-y: hidden;}</style>$$\\displaystyle T = f\\left(L,\\ g,\\ \\theta_{0}\\right)$$"
      ],
      "text/plain": [
       "<IPython.core.display.HTML object>"
      ]
     },
     "metadata": {},
     "output_type": "display_data"
    },
    {
     "data": {
      "text/markdown": [
       "<hr>"
      ],
      "text/plain": [
       "<IPython.core.display.Markdown object>"
      ]
     },
     "metadata": {},
     "output_type": "display_data"
    },
    {
     "data": {
      "text/latex": [
       "$\\displaystyle \\mathtt{\\text{Scaling group }}\\left(L,\\ g\\right)$"
      ],
      "text/plain": [
       "Scaling group (L, g)"
      ]
     },
     "metadata": {},
     "output_type": "display_data"
    },
    {
     "data": {
      "text/html": [
       "<style>.jp-OutputArea-output{overflow-y: hidden;}</style>$$\\displaystyle \\frac{T {g}^{\\frac{1}{2}}}{{L}^{\\frac{1}{2}}} = \\Phi\\left(\\theta_{0}\\right)$$"
      ],
      "text/plain": [
       "<IPython.core.display.HTML object>"
      ]
     },
     "metadata": {},
     "output_type": "display_data"
    }
   ],
   "source": [
    "model.show()"
   ]
  },
  {
   "cell_type": "markdown",
   "id": "d862bfda-2043-450b-b0b8-8cae20046ccd",
   "metadata": {},
   "source": [
    "As you can see, the dimensional expression provides a relationship between 4 quantities, while the dimensionless one has 2 effective quantities. This is one the main advantages of building dimensionless relations."
   ]
  }
 ],
 "metadata": {
  "kernelspec": {
   "display_name": "Python 3 (ipykernel)",
   "language": "python",
   "name": "python3"
  },
  "language_info": {
   "codemirror_mode": {
    "name": "ipython",
    "version": 3
   },
   "file_extension": ".py",
   "mimetype": "text/x-python",
   "name": "python",
   "nbconvert_exporter": "python",
   "pygments_lexer": "ipython3",
   "version": "3.12.0"
  }
 },
 "nbformat": 4,
 "nbformat_minor": 5
}
