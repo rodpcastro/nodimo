{
 "cells": [
  {
   "cell_type": "markdown",
   "id": "c0d85cd8-0754-4988-86f6-219ddc830dba",
   "metadata": {},
   "source": [
    "# Introduction\n",
    "\n",
    "This first tutorial aims to describe basic usage of the main classes of ``nodimo``:\n",
    "\n",
    "* [Quantity](#Quantity)\n",
    "* [Power](#Power)\n",
    "* [Product](#Product)\n",
    "* [DimensionalMatrix](#DimensionalMatrix)\n",
    "* [Relation](#Relation)\n",
    "* [Model](#Model)\n",
    "\n",
    "We start by importing them:"
   ]
  },
  {
   "cell_type": "code",
   "execution_count": 1,
   "id": "7c5d0593-8116-4242-9f8d-ef05331269ab",
   "metadata": {
    "nbsphinx": "hidden"
   },
   "outputs": [],
   "source": [
    "import os\n",
    "import sys\n",
    "nodimo_path = os.path.abspath(os.path.join('../..'))\n",
    "if nodimo_path not in sys.path:\n",
    "    sys.path.append(nodimo_path)"
   ]
  },
  {
   "cell_type": "code",
   "execution_count": 2,
   "id": "f7c27f1c-666a-4232-aa5b-c1f8722c4a07",
   "metadata": {},
   "outputs": [],
   "source": [
    "from nodimo import *"
   ]
  },
  {
   "cell_type": "markdown",
   "id": "b32d029e-fe23-4f9e-a952-059da9f0c743",
   "metadata": {},
   "source": [
    "## Quantity\n",
    "\n",
    "`Quantity` or `Q` is the class used to create a quantity.\n",
    "\n",
    "To create a force, specify its name (symbol) as a string and dimensions as keyword arguments. In the definition below, `M`, `L` and `T` represent the dimensions Mass, Length and Time, respectively"
   ]
  },
  {
   "cell_type": "code",
   "execution_count": 3,
   "id": "75011a67-5d59-4ade-8110-bc886f46557d",
   "metadata": {},
   "outputs": [],
   "source": [
    "F = Quantity('F', M=1, L=1, T=-2)"
   ]
  },
  {
   "cell_type": "markdown",
   "id": "87202b6c-bc28-4f86-9e56-b21fe041586c",
   "metadata": {},
   "source": [
    "To create a dimensionless quantity, just give it the name:"
   ]
  },
  {
   "cell_type": "code",
   "execution_count": 4,
   "id": "1d30b807-4024-4f55-90d6-f5565e7390ba",
   "metadata": {},
   "outputs": [],
   "source": [
    "a = Q('a')"
   ]
  },
  {
   "cell_type": "markdown",
   "id": "ec1e842a-6eb9-4fc2-997e-f6dd0609f52a",
   "metadata": {},
   "source": [
    "To display greek letters in the expressions, write the english representation as the name of the quantity:"
   ]
  },
  {
   "cell_type": "code",
   "execution_count": 5,
   "id": "85a60c9d-7b34-492d-b2f2-76bdb3499a3f",
   "metadata": {},
   "outputs": [
    {
     "data": {
      "text/latex": [
       "$\\displaystyle \\theta$"
      ],
      "text/plain": [
       "theta"
      ]
     },
     "execution_count": 5,
     "metadata": {},
     "output_type": "execute_result"
    }
   ],
   "source": [
    "th = Quantity('theta')\n",
    "th"
   ]
  },
  {
   "cell_type": "markdown",
   "id": "8f4a66aa-636a-4e2f-922d-493e942b159d",
   "metadata": {},
   "source": [
    "Important attributes of objects of this class to mentioned right now are `dimension` and `is_dimensionless`:"
   ]
  },
  {
   "cell_type": "code",
   "execution_count": 6,
   "id": "8c9c524b-5217-42e9-9025-10e1f8e22d97",
   "metadata": {},
   "outputs": [
    {
     "data": {
      "text/latex": [
       "$\\displaystyle \\mathsf{M} \\mathsf{L} \\mathsf{T}^{-2}$"
      ],
      "text/plain": [
       "M*L*T**(-2)"
      ]
     },
     "execution_count": 6,
     "metadata": {},
     "output_type": "execute_result"
    }
   ],
   "source": [
    "F.dimension"
   ]
  },
  {
   "cell_type": "code",
   "execution_count": 7,
   "id": "181f7895-abc8-4869-b51a-1a8955c7bf6a",
   "metadata": {},
   "outputs": [
    {
     "data": {
      "text/plain": [
       "True"
      ]
     },
     "execution_count": 7,
     "metadata": {},
     "output_type": "execute_result"
    }
   ],
   "source": [
    "a.is_dimensionless"
   ]
  },
  {
   "cell_type": "markdown",
   "id": "518c3c58-4a4d-46ca-8802-93cd4de0748d",
   "metadata": {},
   "source": [
    "The other two attributes (`is_dependent` and `is_scaling`) will make sense during the creation of relations and models."
   ]
  },
  {
   "cell_type": "markdown",
   "id": "bcd06030-eee8-4836-92be-4d4cc224a3b4",
   "metadata": {},
   "source": [
    "## Power\n",
    "\n",
    "`Power` is the class used to create the power of a quantity, which can also be created using the `**` operator.\n",
    "\n",
    "For example:"
   ]
  },
  {
   "cell_type": "code",
   "execution_count": 8,
   "id": "19ffcf93-c986-482d-8861-ab76400779f6",
   "metadata": {},
   "outputs": [
    {
     "data": {
      "text/latex": [
       "$\\displaystyle {a}^{2}$"
      ],
      "text/plain": [
       "a**2"
      ]
     },
     "execution_count": 8,
     "metadata": {},
     "output_type": "execute_result"
    }
   ],
   "source": [
    "a = Quantity('a', A=1, B=-2, C=1/2)\n",
    "b = Power(a, 2)\n",
    "b"
   ]
  },
  {
   "cell_type": "markdown",
   "id": "07d140e0-bc30-473c-976b-d74db9021dc2",
   "metadata": {},
   "source": [
    "The dimension of this power quantity is:"
   ]
  },
  {
   "cell_type": "code",
   "execution_count": 9,
   "id": "a903e685-ced7-4df2-9561-6d54cf293437",
   "metadata": {},
   "outputs": [
    {
     "data": {
      "text/latex": [
       "$\\displaystyle \\mathsf{A}^{2} \\mathsf{B}^{-4} \\mathsf{C}$"
      ],
      "text/plain": [
       "A**2*B**(-4)*C"
      ]
     },
     "execution_count": 9,
     "metadata": {},
     "output_type": "execute_result"
    }
   ],
   "source": [
    "b.dimension"
   ]
  },
  {
   "cell_type": "markdown",
   "id": "e4a47cf5-b480-4127-a443-45d0799ea04c",
   "metadata": {},
   "source": [
    "## Product\n",
    "\n",
    "`Product` is the class used to create the product of a quantity, which can also be created using the `*` operator.\n",
    "\n",
    "For example, to create the Reynold's number:"
   ]
  },
  {
   "cell_type": "code",
   "execution_count": 10,
   "id": "93436e32-b027-4d2b-abe6-7bdd9a86e790",
   "metadata": {},
   "outputs": [
    {
     "data": {
      "text/latex": [
       "$\\displaystyle \\frac{\\rho V D}{\\mu}$"
      ],
      "text/plain": [
       "rho*V*D/mu"
      ]
     },
     "execution_count": 10,
     "metadata": {},
     "output_type": "execute_result"
    }
   ],
   "source": [
    "rho = Quantity('rho', M=1, L=-3)\n",
    "V = Quantity('V', L=1, T=-1)\n",
    "D = Quantity('D', L=1)\n",
    "mu = Quantity('mu', M=1, L=-1, T=-1)\n",
    "Re = Product(rho, V, D, mu**-1)\n",
    "Re"
   ]
  },
  {
   "cell_type": "markdown",
   "id": "bc174c26-aeb6-4bc3-9dba-1d353a34207c",
   "metadata": {},
   "source": [
    "As expected, this product of quantities is dimensionless:"
   ]
  },
  {
   "cell_type": "code",
   "execution_count": 11,
   "id": "4c390651-f02b-46e7-b14a-45e553ad39b0",
   "metadata": {},
   "outputs": [
    {
     "data": {
      "text/plain": [
       "True"
      ]
     },
     "execution_count": 11,
     "metadata": {},
     "output_type": "execute_result"
    }
   ],
   "source": [
    "Re.is_dimensionless"
   ]
  },
  {
   "cell_type": "markdown",
   "id": "7efbdc97-6f98-4126-9ee3-6dbe7cec660a",
   "metadata": {},
   "source": [
    "## DimensionalMatrix\n",
    "\n",
    "`DimensionalMatrix` is the class used to create a dimensional matrix.\n",
    "\n",
    "Using the quantities of the previous topic, we can build the dimensional matrix by:"
   ]
  },
  {
   "cell_type": "code",
   "execution_count": 12,
   "id": "2ee64d69-287d-450d-b30c-6d414a1dd8ad",
   "metadata": {},
   "outputs": [
    {
     "data": {
      "text/latex": [
       "$\\displaystyle \\begin{array}{r|rrrr} & \\rho & V & D & \\mu \\\\ \\hline \\mathsf{M} & \\phantom{-}1 & \\phantom{-}0 & \\phantom{-}0 & \\phantom{-}1 \\\\ \\mathsf{L} & -3 & \\phantom{-}1 & \\phantom{-}1 & -1 \\\\ \\mathsf{T} & \\phantom{-}0 & -1 & \\phantom{-}0 & -1 \\\\ \\end{array}$"
      ],
      "text/plain": [
       "   rho   V  D  mu\n",
       "M    1   0  0   1\n",
       "L   -3   1  1  -1\n",
       "T    0  -1  0  -1"
      ]
     },
     "execution_count": 12,
     "metadata": {},
     "output_type": "execute_result"
    }
   ],
   "source": [
    "dmatrix = DimensionalMatrix(rho, V, D, mu)\n",
    "dmatrix"
   ]
  },
  {
   "cell_type": "markdown",
   "id": "fae445b2-d6fc-4f6c-86d9-64f63f26b739",
   "metadata": {},
   "source": [
    "An important property of the dimensional matrix is the `rank`:"
   ]
  },
  {
   "cell_type": "code",
   "execution_count": 13,
   "id": "af7691bf-fe79-4033-b930-e3ef50d00ee0",
   "metadata": {},
   "outputs": [
    {
     "data": {
      "text/plain": [
       "3"
      ]
     },
     "execution_count": 13,
     "metadata": {},
     "output_type": "execute_result"
    }
   ],
   "source": [
    "dmatrix.rank"
   ]
  },
  {
   "cell_type": "markdown",
   "id": "477da492-a5cf-430a-8d4e-2bb2ca0e648d",
   "metadata": {},
   "source": [
    "## Relation\n",
    "\n",
    "`Relation` is the class used to create a relation between quantities. A relation must have one dependent quantity.\n",
    "\n",
    "As an example, let's build a relation between force, mass and acceleration, using the force as the dependent quantity:"
   ]
  },
  {
   "cell_type": "code",
   "execution_count": 14,
   "id": "37963479-4d03-4954-a6a8-dd8afdbeb27f",
   "metadata": {},
   "outputs": [
    {
     "data": {
      "text/latex": [
       "$\\displaystyle F = f\\left(m,\\ a\\right)$"
      ],
      "text/plain": [
       "F = f(m, a)"
      ]
     },
     "execution_count": 14,
     "metadata": {},
     "output_type": "execute_result"
    }
   ],
   "source": [
    "F = Quantity('F', M=1, L=1, T=-2, dependent=True)\n",
    "m = Quantity('m', M=1)\n",
    "a = Quantity('a', L=1, T=-2)\n",
    "\n",
    "rel = Relation(F, m, a)\n",
    "rel"
   ]
  },
  {
   "cell_type": "markdown",
   "id": "ed72188b-2f55-488e-a8d4-a35e798920b4",
   "metadata": {},
   "source": [
    "## Model\n",
    "\n",
    "The `Model` class is mainly used to create relations of dimensionless quantities from a given group of dimensional quantities. Like the `relation`, a model must have a dependent quantity. In addition, some of these quantities must have the scaling property, which means they can be used as transformation parameters to create the new group of dimensionless quantities. The number of scaling quantities must match the rank of the dimensional matrix formed by all the quantities that constitute the model.\n",
    "\n",
    "For the following example, generic quantities with generic dimensions are used:"
   ]
  },
  {
   "cell_type": "code",
   "execution_count": 15,
   "id": "d6b9d1ba-d4f9-427f-ac52-9ec622432528",
   "metadata": {},
   "outputs": [],
   "source": [
    "v1 = Q('v_1', A=1, B=0, C=-1, dependent=True)\n",
    "v2 = Q('v_2', B=3, C=1)\n",
    "v3 = Q('v_3', A=2, C=-2, scaling=True)\n",
    "v4 = Q('v_4', A=0, B=-2, C=1, scaling=True)\n",
    "v5 = Q('v_5', B=-3, C=4, scaling=True)\n",
    "v6 = Q('v_6', A=4, B=-1, C=2)\n",
    "\n",
    "model = Model(v1, v2, v3, v4, v5, v6)"
   ]
  },
  {
   "cell_type": "markdown",
   "id": "38864eef-2014-4b6a-b23c-ea6b50ab5779",
   "metadata": {},
   "source": [
    "To display not just the dimensional relation, but the newly created relation of dimensionless quantities, use the `show` method:"
   ]
  },
  {
   "cell_type": "code",
   "execution_count": 16,
   "id": "36d6a497-a838-45f5-b4e1-f301004ec64e",
   "metadata": {},
   "outputs": [
    {
     "data": {
      "text/html": [
       "<style>.jp-OutputArea-output{overflow-y: hidden;}</style>$$\\displaystyle v_{1} = f\\left(v_{2},\\ v_{3},\\ v_{4},\\ v_{5},\\ v_{6}\\right)$$"
      ],
      "text/plain": [
       "<IPython.core.display.HTML object>"
      ]
     },
     "metadata": {},
     "output_type": "display_data"
    },
    {
     "data": {
      "text/markdown": [
       "<hr>"
      ],
      "text/plain": [
       "<IPython.core.display.Markdown object>"
      ]
     },
     "metadata": {},
     "output_type": "display_data"
    },
    {
     "data": {
      "text/latex": [
       "$\\displaystyle \\mathtt{\\text{Scaling group }}\\left(v_{3},\\ v_{4},\\ v_{5}\\right)$"
      ],
      "text/plain": [
       "Scaling group (v_3, v_4, v_5)"
      ]
     },
     "metadata": {},
     "output_type": "display_data"
    },
    {
     "data": {
      "text/html": [
       "<style>.jp-OutputArea-output{overflow-y: hidden;}</style>$$\\displaystyle \\frac{v_{1}}{{v_{3}}^{\\frac{1}{2}}} = \\Phi\\left(\\frac{v_{2} {v_{4}}^{3}}{v_{5}},\\ \\frac{v_{6} {v_{4}}^{\\frac{14}{5}}}{{v_{3}}^{2} {v_{5}}^{\\frac{11}{5}}}\\right)$$"
      ],
      "text/plain": [
       "<IPython.core.display.HTML object>"
      ]
     },
     "metadata": {},
     "output_type": "display_data"
    }
   ],
   "source": [
    "model.show()"
   ]
  },
  {
   "cell_type": "markdown",
   "id": "569cb40b-0777-405f-aa36-6c461e8673fb",
   "metadata": {},
   "source": [
    "Each created relation is linked to a group of scaling quantities and stored in a dictionary.\n",
    "\n",
    "To verify that all quantities in this new relation are dimensionless:"
   ]
  },
  {
   "cell_type": "code",
   "execution_count": 17,
   "id": "db8579da-5fa3-4f87-9331-097046e6ab0e",
   "metadata": {},
   "outputs": [],
   "source": [
    "for rel in model.relations.values():\n",
    "    for qty in rel:\n",
    "        assert qty.is_dimensionless"
   ]
  },
  {
   "cell_type": "markdown",
   "id": "371b5c51-0ead-48c8-b512-bdd859e00b1e",
   "metadata": {},
   "source": [
    "This completes a basic application of the main classes of `nodimo`. For more information about each one of them, consult the API documentation. For more applications, check the next tutorials."
   ]
  }
 ],
 "metadata": {
  "kernelspec": {
   "display_name": "Python 3 (ipykernel)",
   "language": "python",
   "name": "python3"
  },
  "language_info": {
   "codemirror_mode": {
    "name": "ipython",
    "version": 3
   },
   "file_extension": ".py",
   "mimetype": "text/x-python",
   "name": "python",
   "nbconvert_exporter": "python",
   "pygments_lexer": "ipython3",
   "version": "3.12.0"
  }
 },
 "nbformat": 4,
 "nbformat_minor": 5
}
