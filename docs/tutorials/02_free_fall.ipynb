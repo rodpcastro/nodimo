{
 "cells": [
  {
   "cell_type": "markdown",
   "id": "2bf7f295-a6ea-4a4c-aa4c-df1bf5eb8bf0",
   "metadata": {},
   "source": [
    "# Free Fall"
   ]
  },
  {
   "cell_type": "markdown",
   "id": "d52b232c-9e5e-4c58-ac9a-5c5331f59026",
   "metadata": {},
   "source": [
    "In the free fall problem, an object of mass `m`, at a initial height `z0`, falls under the effect of a gravitational acceleration `g`, with a initial velocity `v0`. At a time instant `t`, the height and velocity are `z` and `v`."
   ]
  },
  {
   "cell_type": "markdown",
   "id": "c8ab4312-d54c-45e2-bdde-2d007b2914c1",
   "metadata": {},
   "source": [
    "<center><img src=\"drawings/02_free_fall.svg\" width=\"300\"></center>"
   ]
  },
  {
   "cell_type": "markdown",
   "id": "13f73864-6c9e-4277-a02f-107761d6b4ca",
   "metadata": {},
   "source": [
    "The objective here is to determine nondimensional relationships between those variables.\n",
    "\n",
    "We start by importing the necessary classes from `nodimo`:"
   ]
  },
  {
   "cell_type": "code",
   "execution_count": 1,
   "id": "7a1def50-c317-4ae6-946b-0a2a206cbf87",
   "metadata": {},
   "outputs": [],
   "source": [
    "from nodimo import Variable, NonDimensionalModels"
   ]
  },
  {
   "cell_type": "markdown",
   "id": "6ef7ae90-fc53-49e4-b354-43bfd23b3762",
   "metadata": {},
   "source": [
    "Our dependent variable will be `z` and there are three variables that are interesting to set as scaling: `g`, `z0`  and `v0`. The variables `v` and `t` are not suitable to be used as scaling parameters, because they are not constants of the problem. And it's needless to say that `m` can't be part of our model, but it was added to show how `nodimo` handles these situations."
   ]
  },
  {
   "cell_type": "code",
   "execution_count": 2,
   "id": "9ee7753b-6d3d-499b-b7d2-391d2718ddcd",
   "metadata": {},
   "outputs": [],
   "source": [
    "z = Variable('z', L=1, dependent=True)\n",
    "m = Variable('m', M=1)\n",
    "v = Variable('v', L=1, T=-1)\n",
    "g = Variable('g', L=1, T=-2, scaling=True)\n",
    "t = Variable('t', T=1)\n",
    "z0 = Variable('z_0', L=1, scaling=True)\n",
    "v0 = Variable('v_0', L=1, T=-1, scaling=True)"
   ]
  },
  {
   "cell_type": "markdown",
   "id": "dfc86ba2-eec4-4c7c-9ce7-95959e377c47",
   "metadata": {},
   "source": [
    "Now, to create all possible nondimensional models using the variables defined above, we execute:"
   ]
  },
  {
   "cell_type": "code",
   "execution_count": 3,
   "id": "e4043a4b-b956-42d9-b884-ef519758cf05",
   "metadata": {},
   "outputs": [
    {
     "name": "stdout",
     "output_type": "stream",
     "text": [
      "\u001b[93mVariables that can not be part of the model:\u001b[0m\n",
      "\u001b[93m    m\u001b[0m\n",
      "\u001b[93mDimensions that can not be part of the model:\u001b[0m\n",
      "\u001b[93m    M\u001b[0m\n"
     ]
    }
   ],
   "source": [
    "ndmodels = NonDimensionalModels(z, m, v, g, t, z0, v0)"
   ]
  },
  {
   "cell_type": "markdown",
   "id": "290d2e92-50cb-43fb-9052-b22cdbb889dd",
   "metadata": {},
   "source": [
    "As expected, the variable `m` and the dimension `M` can not belong to the model and are discarded.\n",
    "\n",
    "To display all possible models, just run the `show` method:"
   ]
  },
  {
   "cell_type": "code",
   "execution_count": 4,
   "id": "fb680038-e417-4d3c-8758-0b01c97d455d",
   "metadata": {},
   "outputs": [
    {
     "data": {
      "text/latex": [
       "$\\displaystyle \\text{Scaling group }1\\text{:}\\ g,\\ z_{0}$"
      ],
      "text/plain": [
       "<IPython.core.display.Math object>"
      ]
     },
     "metadata": {},
     "output_type": "display_data"
    },
    {
     "data": {
      "text/html": [
       "<style>.jp-OutputArea-output{overflow-y: hidden;}</style>$$\\displaystyle \\frac{z}{z_{0}} = \\Pi{\\left(\\frac{v}{g^{\\frac{1}{2}} z_{0}^{\\frac{1}{2}}},\\frac{g^{\\frac{1}{2}} t}{z_{0}^{\\frac{1}{2}}},\\frac{v_{0}}{g^{\\frac{1}{2}} z_{0}^{\\frac{1}{2}}} \\right)}$$"
      ],
      "text/plain": [
       "<IPython.core.display.HTML object>"
      ]
     },
     "metadata": {},
     "output_type": "display_data"
    },
    {
     "data": {
      "text/markdown": [
       "<hr>"
      ],
      "text/plain": [
       "<IPython.core.display.Markdown object>"
      ]
     },
     "metadata": {},
     "output_type": "display_data"
    },
    {
     "data": {
      "text/latex": [
       "$\\displaystyle \\text{Scaling group }2\\text{:}\\ g,\\ v_{0}$"
      ],
      "text/plain": [
       "<IPython.core.display.Math object>"
      ]
     },
     "metadata": {},
     "output_type": "display_data"
    },
    {
     "data": {
      "text/html": [
       "<style>.jp-OutputArea-output{overflow-y: hidden;}</style>$$\\displaystyle \\frac{g z}{v_{0}^{2}} = \\Pi{\\left(\\frac{v}{v_{0}},\\frac{g t}{v_{0}},\\frac{g z_{0}}{v_{0}^{2}} \\right)}$$"
      ],
      "text/plain": [
       "<IPython.core.display.HTML object>"
      ]
     },
     "metadata": {},
     "output_type": "display_data"
    },
    {
     "data": {
      "text/markdown": [
       "<hr>"
      ],
      "text/plain": [
       "<IPython.core.display.Markdown object>"
      ]
     },
     "metadata": {},
     "output_type": "display_data"
    },
    {
     "data": {
      "text/latex": [
       "$\\displaystyle \\text{Scaling group }3\\text{:}\\ z_{0},\\ v_{0}$"
      ],
      "text/plain": [
       "<IPython.core.display.Math object>"
      ]
     },
     "metadata": {},
     "output_type": "display_data"
    },
    {
     "data": {
      "text/html": [
       "<style>.jp-OutputArea-output{overflow-y: hidden;}</style>$$\\displaystyle \\frac{z}{z_{0}} = \\Pi{\\left(\\frac{v}{v_{0}},\\frac{t v_{0}}{z_{0}},\\frac{g z_{0}}{v_{0}^{2}} \\right)}$$"
      ],
      "text/plain": [
       "<IPython.core.display.HTML object>"
      ]
     },
     "metadata": {},
     "output_type": "display_data"
    },
    {
     "data": {
      "text/markdown": [
       "<hr>"
      ],
      "text/plain": [
       "<IPython.core.display.Markdown object>"
      ]
     },
     "metadata": {},
     "output_type": "display_data"
    }
   ],
   "source": [
    "ndmodels.show()"
   ]
  },
  {
   "cell_type": "markdown",
   "id": "8a845e1f-91db-404a-ab84-2cb59a0e2d7d",
   "metadata": {},
   "source": [
    "In this way, you are able to choose the nondimensional expression that better represents the model for your purpose."
   ]
  }
 ],
 "metadata": {
  "kernelspec": {
   "display_name": "Python 3 (ipykernel)",
   "language": "python",
   "name": "python3"
  },
  "language_info": {
   "codemirror_mode": {
    "name": "ipython",
    "version": 3
   },
   "file_extension": ".py",
   "mimetype": "text/x-python",
   "name": "python",
   "nbconvert_exporter": "python",
   "pygments_lexer": "ipython3",
   "version": "3.11.0"
  }
 },
 "nbformat": 4,
 "nbformat_minor": 5
}
