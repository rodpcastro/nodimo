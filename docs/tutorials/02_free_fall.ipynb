{
 "cells": [
  {
   "cell_type": "markdown",
   "id": "2bf7f295-a6ea-4a4c-aa4c-df1bf5eb8bf0",
   "metadata": {},
   "source": [
    "# Free Fall\n",
    "\n",
    "In the free fall problem, an object of mass `m`, at a initial height `z0`, falls under the effect of a gravitational acceleration `g`, with a initial velocity `v0`. At a time instant `t`, the height and velocity are `z` and `v`.\n",
    "\n",
    "<center><img src=\"drawings/02_free_fall.svg\" width=\"300\"></center>\n",
    "\n",
    "The objective here is to determine some dimensionless relations between those quantities.\n",
    "\n",
    "We start by importing the necessary classes from `nodimo`:"
   ]
  },
  {
   "cell_type": "code",
   "execution_count": 1,
   "id": "42c7642a-a80d-456a-ae64-57726cbcc7d7",
   "metadata": {
    "nbsphinx": "hidden"
   },
   "outputs": [],
   "source": [
    "import os\n",
    "import sys\n",
    "nodimo_path = os.path.abspath(os.path.join('../..'))\n",
    "if nodimo_path not in sys.path:\n",
    "    sys.path.append(nodimo_path)"
   ]
  },
  {
   "cell_type": "code",
   "execution_count": 2,
   "id": "7a1def50-c317-4ae6-946b-0a2a206cbf87",
   "metadata": {},
   "outputs": [],
   "source": [
    "from nodimo import Q, Model"
   ]
  },
  {
   "cell_type": "markdown",
   "id": "6ef7ae90-fc53-49e4-b354-43bfd23b3762",
   "metadata": {},
   "source": [
    "The dependent quantity will be `z` and there are three quantities that are interesting to set as scaling: `g`, `z0`  and `v0`. The quantities `v` and `t` are not suitable to be used as scaling, because they are not parameters of the problem. And it's needless to say that `m` can't be part of our model, but it was added to show how `nodimo` handles these situations."
   ]
  },
  {
   "cell_type": "code",
   "execution_count": 3,
   "id": "9ee7753b-6d3d-499b-b7d2-391d2718ddcd",
   "metadata": {},
   "outputs": [],
   "source": [
    "z = Q('z', L=1, dependent=True)\n",
    "m = Q('m', M=1)\n",
    "v = Q('v', L=1, T=-1)\n",
    "g = Q('g', L=1, T=-2, scaling=True)\n",
    "t = Q('t', T=1)\n",
    "z0 = Q('z_0', L=1, scaling=True)\n",
    "v0 = Q('v_0', L=1, T=-1, scaling=True)"
   ]
  },
  {
   "cell_type": "markdown",
   "id": "dfc86ba2-eec4-4c7c-9ce7-95959e377c47",
   "metadata": {},
   "source": [
    "Now, to create all possible dimensionless models using the quantities defined above:"
   ]
  },
  {
   "cell_type": "code",
   "execution_count": 4,
   "id": "e4043a4b-b956-42d9-b884-ef519758cf05",
   "metadata": {},
   "outputs": [
    {
     "name": "stderr",
     "output_type": "stream",
     "text": [
      "\u001b[93mNodimoWarning\u001b[0m: Dimensionally irrelevant quantities (m)\n"
     ]
    }
   ],
   "source": [
    "model = Model(z, m, v, g, t, z0, v0)"
   ]
  },
  {
   "cell_type": "markdown",
   "id": "290d2e92-50cb-43fb-9052-b22cdbb889dd",
   "metadata": {},
   "source": [
    "As expected, the quantity `m` is irrelevant to the model and is, therefore, discarded.\n",
    "\n",
    "To display all possible relations, use the `show` method:"
   ]
  },
  {
   "cell_type": "code",
   "execution_count": 5,
   "id": "fb680038-e417-4d3c-8758-0b01c97d455d",
   "metadata": {},
   "outputs": [
    {
     "data": {
      "text/html": [
       "<style>.jp-OutputArea-output{overflow-y: hidden;}</style>$$\\displaystyle z = f\\left(v,\\ g,\\ t,\\ z_{0},\\ v_{0}\\right)$$"
      ],
      "text/plain": [
       "<IPython.core.display.HTML object>"
      ]
     },
     "metadata": {},
     "output_type": "display_data"
    },
    {
     "data": {
      "text/markdown": [
       "<hr>"
      ],
      "text/plain": [
       "<IPython.core.display.Markdown object>"
      ]
     },
     "metadata": {},
     "output_type": "display_data"
    },
    {
     "data": {
      "text/latex": [
       "$\\displaystyle \\mathtt{\\text{Scaling group 1 }}\\left(g,\\ z_{0}\\right)$"
      ],
      "text/plain": [
       "Scaling group 1 (g, z_0)"
      ]
     },
     "metadata": {},
     "output_type": "display_data"
    },
    {
     "data": {
      "text/html": [
       "<style>.jp-OutputArea-output{overflow-y: hidden;}</style>$$\\displaystyle \\frac{z}{z_{0}} = \\Phi_{1}\\left(\\frac{v}{{g}^{\\frac{1}{2}} {z_{0}}^{\\frac{1}{2}}},\\ \\frac{t {g}^{\\frac{1}{2}}}{{z_{0}}^{\\frac{1}{2}}},\\ \\frac{v_{0}}{{g}^{\\frac{1}{2}} {z_{0}}^{\\frac{1}{2}}}\\right)$$"
      ],
      "text/plain": [
       "<IPython.core.display.HTML object>"
      ]
     },
     "metadata": {},
     "output_type": "display_data"
    },
    {
     "data": {
      "text/markdown": [
       "<hr>"
      ],
      "text/plain": [
       "<IPython.core.display.Markdown object>"
      ]
     },
     "metadata": {},
     "output_type": "display_data"
    },
    {
     "data": {
      "text/latex": [
       "$\\displaystyle \\mathtt{\\text{Scaling group 2 }}\\left(g,\\ v_{0}\\right)$"
      ],
      "text/plain": [
       "Scaling group 2 (g, v_0)"
      ]
     },
     "metadata": {},
     "output_type": "display_data"
    },
    {
     "data": {
      "text/html": [
       "<style>.jp-OutputArea-output{overflow-y: hidden;}</style>$$\\displaystyle \\frac{z g}{{v_{0}}^{2}} = \\Phi_{2}\\left(\\frac{v}{v_{0}},\\ \\frac{t g}{v_{0}},\\ \\frac{z_{0} g}{{v_{0}}^{2}}\\right)$$"
      ],
      "text/plain": [
       "<IPython.core.display.HTML object>"
      ]
     },
     "metadata": {},
     "output_type": "display_data"
    },
    {
     "data": {
      "text/markdown": [
       "<hr>"
      ],
      "text/plain": [
       "<IPython.core.display.Markdown object>"
      ]
     },
     "metadata": {},
     "output_type": "display_data"
    },
    {
     "data": {
      "text/latex": [
       "$\\displaystyle \\mathtt{\\text{Scaling group 3 }}\\left(z_{0},\\ v_{0}\\right)$"
      ],
      "text/plain": [
       "Scaling group 3 (z_0, v_0)"
      ]
     },
     "metadata": {},
     "output_type": "display_data"
    },
    {
     "data": {
      "text/html": [
       "<style>.jp-OutputArea-output{overflow-y: hidden;}</style>$$\\displaystyle \\frac{z}{z_{0}} = \\Phi_{3}\\left(\\frac{v}{v_{0}},\\ \\frac{t v_{0}}{z_{0}},\\ \\frac{g z_{0}}{{v_{0}}^{2}}\\right)$$"
      ],
      "text/plain": [
       "<IPython.core.display.HTML object>"
      ]
     },
     "metadata": {},
     "output_type": "display_data"
    }
   ],
   "source": [
    "model.show()"
   ]
  },
  {
   "cell_type": "markdown",
   "id": "8a845e1f-91db-404a-ab84-2cb59a0e2d7d",
   "metadata": {},
   "source": [
    "In this way, you are able to choose the dimensionless relation that better represents the model for your purpose."
   ]
  }
 ],
 "metadata": {
  "kernelspec": {
   "display_name": "Python 3 (ipykernel)",
   "language": "python",
   "name": "python3"
  },
  "language_info": {
   "codemirror_mode": {
    "name": "ipython",
    "version": 3
   },
   "file_extension": ".py",
   "mimetype": "text/x-python",
   "name": "python",
   "nbconvert_exporter": "python",
   "pygments_lexer": "ipython3",
   "version": "3.12.0"
  }
 },
 "nbformat": 4,
 "nbformat_minor": 5
}
