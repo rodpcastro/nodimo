{
 "cells": [
  {
   "cell_type": "markdown",
   "id": "c0d85cd8-0754-4988-86f6-219ddc830dba",
   "metadata": {},
   "source": [
    "# Nodimo Classes"
   ]
  },
  {
   "cell_type": "markdown",
   "id": "08df9076-f5b5-4c65-9c30-140d7507fca5",
   "metadata": {},
   "source": [
    "This first tutorial aims to describe basic usage of each one of the ``nodimo`` classes:\n",
    "\n",
    "* [Variable](#Variable)\n",
    "* [VariableGroup](#VariableGroup)\n",
    "* [DimensionalMatrix](#DimensionalMatrix)\n",
    "* [ModelFunction](#ModelFunction)\n",
    "* [DimensionalModel](#DimensionalModel)\n",
    "* [NonDimensionalModel](#NonDimensionalModel)\n",
    "* [NonDimensionalModels](#NonDimensionalModels)\n",
    "\n",
    "We start by importing them:"
   ]
  },
  {
   "cell_type": "code",
   "execution_count": 1,
   "id": "f7c27f1c-666a-4232-aa5b-c1f8722c4a07",
   "metadata": {},
   "outputs": [],
   "source": [
    "from nodimo import *"
   ]
  },
  {
   "cell_type": "markdown",
   "id": "b32d029e-fe23-4f9e-a952-059da9f0c743",
   "metadata": {},
   "source": [
    "## Variable"
   ]
  },
  {
   "cell_type": "markdown",
   "id": "380d93a3-a3c0-4ca2-9ca6-ec41fdf16e30",
   "metadata": {},
   "source": [
    "`Variable` or `Var` is the class used to create a variable.\n",
    "\n",
    "To create a Force variable, specify its name and dimensions:"
   ]
  },
  {
   "cell_type": "code",
   "execution_count": 2,
   "id": "75011a67-5d59-4ade-8110-bc886f46557d",
   "metadata": {},
   "outputs": [],
   "source": [
    "F = Variable('F', mass=1, length=1, time=-2)"
   ]
  },
  {
   "cell_type": "markdown",
   "id": "87202b6c-bc28-4f86-9e56-b21fe041586c",
   "metadata": {},
   "source": [
    "To create a nondimensional variable, just give it the name:"
   ]
  },
  {
   "cell_type": "code",
   "execution_count": 3,
   "id": "1d30b807-4024-4f55-90d6-f5565e7390ba",
   "metadata": {},
   "outputs": [],
   "source": [
    "a = Var('a')"
   ]
  },
  {
   "cell_type": "markdown",
   "id": "ec1e842a-6eb9-4fc2-997e-f6dd0609f52a",
   "metadata": {},
   "source": [
    "To display greek letters in the expressions, write the english representation as the name of the variable:"
   ]
  },
  {
   "cell_type": "code",
   "execution_count": 4,
   "id": "85a60c9d-7b34-492d-b2f2-76bdb3499a3f",
   "metadata": {},
   "outputs": [
    {
     "data": {
      "text/latex": [
       "$\\displaystyle \\theta$"
      ],
      "text/plain": [
       "θ"
      ]
     },
     "execution_count": 4,
     "metadata": {},
     "output_type": "execute_result"
    }
   ],
   "source": [
    "th = Variable('theta')\n",
    "th"
   ]
  },
  {
   "cell_type": "markdown",
   "id": "8f4a66aa-636a-4e2f-922d-493e942b159d",
   "metadata": {},
   "source": [
    "Important attributes of the class variable to mentioned right now are:"
   ]
  },
  {
   "cell_type": "code",
   "execution_count": 5,
   "id": "9f0dfa6f-3af6-4f13-8c0a-d7cc93c43095",
   "metadata": {},
   "outputs": [
    {
     "data": {
      "text/plain": [
       "'theta'"
      ]
     },
     "execution_count": 5,
     "metadata": {},
     "output_type": "execute_result"
    }
   ],
   "source": [
    "th.name"
   ]
  },
  {
   "cell_type": "code",
   "execution_count": 6,
   "id": "8c9c524b-5217-42e9-9025-10e1f8e22d97",
   "metadata": {},
   "outputs": [
    {
     "data": {
      "text/plain": [
       "{'mass': 1, 'length': 1, 'time': -2}"
      ]
     },
     "execution_count": 6,
     "metadata": {},
     "output_type": "execute_result"
    }
   ],
   "source": [
    "F.dimensions"
   ]
  },
  {
   "cell_type": "code",
   "execution_count": 7,
   "id": "181f7895-abc8-4869-b51a-1a8955c7bf6a",
   "metadata": {},
   "outputs": [
    {
     "data": {
      "text/plain": [
       "True"
      ]
     },
     "execution_count": 7,
     "metadata": {},
     "output_type": "execute_result"
    }
   ],
   "source": [
    "a.is_nondimensional"
   ]
  },
  {
   "cell_type": "markdown",
   "id": "518c3c58-4a4d-46ca-8802-93cd4de0748d",
   "metadata": {},
   "source": [
    "The other two attributes (`is_dependent` and `is_scaling`) will be explained and used during the creation of functions and nondimensional models."
   ]
  },
  {
   "cell_type": "markdown",
   "id": "bcd06030-eee8-4836-92be-4d4cc224a3b4",
   "metadata": {},
   "source": [
    "## VariableGroup"
   ]
  },
  {
   "cell_type": "markdown",
   "id": "50a70543-8e91-464c-90d3-1fc6bc4d6d91",
   "metadata": {},
   "source": [
    "`VariableGroup` or `VarGroup` is the class used to create a group of variables.\n",
    "\n",
    "To create the Reynolds number, we first create the variables:"
   ]
  },
  {
   "cell_type": "code",
   "execution_count": 8,
   "id": "93436e32-b027-4d2b-abe6-7bdd9a86e790",
   "metadata": {},
   "outputs": [],
   "source": [
    "rho = Variable('rho', M=1, L=-3)\n",
    "V = Variable('V', L=1, T=-1)\n",
    "D = Variable('D', L=1)\n",
    "mu = Variable('mu', M=1, L=-1, T=-1)"
   ]
  },
  {
   "cell_type": "markdown",
   "id": "bc174c26-aeb6-4bc3-9dba-1d353a34207c",
   "metadata": {},
   "source": [
    "Then, we create the group by providing the list of variables and the the list of exponents to which each variable should be raised:"
   ]
  },
  {
   "cell_type": "code",
   "execution_count": 9,
   "id": "83380b25-187c-4732-aa61-8f7dcd0e5132",
   "metadata": {},
   "outputs": [
    {
     "data": {
      "text/latex": [
       "$\\displaystyle \\frac{D V \\rho}{\\mu}$"
      ],
      "text/plain": [
       "D⋅V⋅ρ\n",
       "─────\n",
       "  μ  "
      ]
     },
     "execution_count": 9,
     "metadata": {},
     "output_type": "execute_result"
    }
   ],
   "source": [
    "Re = VariableGroup([rho, V, D, mu], [1, 1, 1, -1])\n",
    "Re"
   ]
  },
  {
   "cell_type": "markdown",
   "id": "62e8a8c9-8bab-49f9-a62c-1b4a0fd8943c",
   "metadata": {},
   "source": [
    "Important attributes are:"
   ]
  },
  {
   "cell_type": "code",
   "execution_count": 10,
   "id": "4d8423ee-5037-43e2-9561-c3af5db2d2f9",
   "metadata": {},
   "outputs": [
    {
     "data": {
      "text/plain": [
       "{'M': 0, 'L': 0, 'T': 0}"
      ]
     },
     "execution_count": 10,
     "metadata": {},
     "output_type": "execute_result"
    }
   ],
   "source": [
    "Re.dimensions"
   ]
  },
  {
   "cell_type": "code",
   "execution_count": 11,
   "id": "4c390651-f02b-46e7-b14a-45e553ad39b0",
   "metadata": {},
   "outputs": [
    {
     "data": {
      "text/plain": [
       "True"
      ]
     },
     "execution_count": 11,
     "metadata": {},
     "output_type": "execute_result"
    }
   ],
   "source": [
    "Re.is_nondimensional"
   ]
  },
  {
   "cell_type": "markdown",
   "id": "7efbdc97-6f98-4126-9ee3-6dbe7cec660a",
   "metadata": {},
   "source": [
    "## DimensionalMatrix"
   ]
  },
  {
   "cell_type": "markdown",
   "id": "dfc0313d-551a-4e1c-a3d1-ef919f3e3444",
   "metadata": {},
   "source": [
    "`DimensionalMatrix` or `DimMatrix` is the class used to create a dimensional matrix.\n",
    "\n",
    "Using the variables of the previous topic, we can build their dimensional matrix by:"
   ]
  },
  {
   "cell_type": "code",
   "execution_count": 12,
   "id": "2ee64d69-287d-450d-b30c-6d414a1dd8ad",
   "metadata": {},
   "outputs": [],
   "source": [
    "dmatrix = DimensionalMatrix(rho, V, D, mu)"
   ]
  },
  {
   "cell_type": "markdown",
   "id": "98cd53a2-c1d9-42b6-bf6b-dd816de2bd78",
   "metadata": {},
   "source": [
    "This object can be displayed like a nice table by using the `show` method:"
   ]
  },
  {
   "cell_type": "code",
   "execution_count": 13,
   "id": "f81f8e94-6f53-46e3-a7d3-e39de84fcf15",
   "metadata": {},
   "outputs": [
    {
     "data": {
      "text/html": [
       "<style>.output{overflow: visible !important}</style>$$\\begin{array}{r|rrrr} & \\rho & V & D & \\mu\\\\ \\hline \\mathtt{\\text{M}} & \\phantom{-}1 & \\phantom{-}0 & \\phantom{-}0 & \\phantom{-}1\\\\\\mathtt{\\text{L}} & -3 & \\phantom{-}1 & \\phantom{-}1 & -1\\\\\\mathtt{\\text{T}} & \\phantom{-}0 & -1 & \\phantom{-}0 & -1\\\\\\end{array}$$"
      ],
      "text/plain": [
       "<IPython.core.display.HTML object>"
      ]
     },
     "metadata": {},
     "output_type": "display_data"
    }
   ],
   "source": [
    "dmatrix.show()"
   ]
  },
  {
   "cell_type": "markdown",
   "id": "65eaf920-c306-40b0-9f76-fa2341dc9a68",
   "metadata": {},
   "source": [
    "## ModelFunction"
   ]
  },
  {
   "cell_type": "markdown",
   "id": "df9f85e7-cc6f-49df-957b-33356f9fd90d",
   "metadata": {},
   "source": [
    "`ModelFunction` is the class used to create a function.\n",
    "\n",
    "A function must have one dependent variable. Let's build a function that relates three variables:"
   ]
  },
  {
   "cell_type": "code",
   "execution_count": 14,
   "id": "a1f4b0f3-37db-42b9-bb6a-696135dda4cd",
   "metadata": {},
   "outputs": [],
   "source": [
    "F = Variable('F', M=1, L=1, T=-2, dependent=True)\n",
    "m = Variable('m', M=1)\n",
    "a = Variable('a', L=1, T=-2)\n",
    "\n",
    "mfunc = ModelFunction(F, m, a)"
   ]
  },
  {
   "cell_type": "markdown",
   "id": "21258e2a-8fc3-44f9-9e5d-2c6ac2ceb569",
   "metadata": {},
   "source": [
    "The function can be displayed using the `show` method:"
   ]
  },
  {
   "cell_type": "code",
   "execution_count": 15,
   "id": "bbe51530-da31-44f9-9a34-93fc27d86004",
   "metadata": {},
   "outputs": [
    {
     "data": {
      "text/html": [
       "<style>.output{overflow: visible !important}</style>$$F = f{\\left(m,a \\right)}$$"
      ],
      "text/plain": [
       "<IPython.core.display.HTML object>"
      ]
     },
     "metadata": {},
     "output_type": "display_data"
    }
   ],
   "source": [
    "mfunc.show()"
   ]
  },
  {
   "cell_type": "markdown",
   "id": "ed72188b-2f55-488e-a8d4-a35e798920b4",
   "metadata": {},
   "source": [
    "## DimensionalModel"
   ]
  },
  {
   "cell_type": "markdown",
   "id": "880716d6-357d-404c-b9e5-3278304f37c6",
   "metadata": {},
   "source": [
    "`DimensionalModel` is the class used to create a dimensional model. This is the base class for `NonDimensionalModel` and `NonDimensionalModels`. So everything described for this class can also be used by its child classes.\n",
    "\n",
    "First, let's create some generic variables with generic dimensions."
   ]
  },
  {
   "cell_type": "code",
   "execution_count": 16,
   "id": "d6b9d1ba-d4f9-427f-ac52-9ec622432528",
   "metadata": {},
   "outputs": [],
   "source": [
    "v1 = Var('v_1', d1=1, d2=0, d3=-1, dependent=True)\n",
    "v2 = Var('v_2', d2=3, d3=1)\n",
    "v3 = Var('v_3', d1=2, d3=-2)\n",
    "v4 = Var('v_4', d1=-1, d2=4, d4=-5)\n",
    "v5 = Var('v_5', d1=0, d2=-2, d3=1)\n",
    "v6 = Var('v_6', d2=-3, d3=4)\n",
    "v7 = Var('v_7', d1=4, d2=-1, d3=2)"
   ]
  },
  {
   "cell_type": "markdown",
   "id": "66e16bae-bfea-41ec-8641-c0070f219313",
   "metadata": {},
   "source": [
    "The dimensional model is created as follows"
   ]
  },
  {
   "cell_type": "code",
   "execution_count": 17,
   "id": "4476e7b3-3b83-4fb6-bc7d-1080e3b7da63",
   "metadata": {},
   "outputs": [
    {
     "name": "stdout",
     "output_type": "stream",
     "text": [
      "\u001b[93mVariables that can not be part of the model:\u001b[0m\n",
      "\u001b[93m    v₄\u001b[0m\n",
      "\u001b[93mDimensions that can not be part of the model:\u001b[0m\n",
      "\u001b[93m    d4\u001b[0m\n"
     ]
    }
   ],
   "source": [
    "dmodel = DimensionalModel(v1, v2, v3, v4, v5, v6, v7)"
   ]
  },
  {
   "cell_type": "markdown",
   "id": "fe974dda-bff3-4fbb-ba07-fe25c85e2480",
   "metadata": {},
   "source": [
    "As you can see, `nodimo` detected that the variable `v4` and its dimension `d4` can not be part of the dimensional model.\n",
    "\n",
    "If we run the `show` method, you'll see that v4 is not contained in the created model:"
   ]
  },
  {
   "cell_type": "code",
   "execution_count": 18,
   "id": "36d6a497-a838-45f5-b4e1-f301004ec64e",
   "metadata": {},
   "outputs": [
    {
     "data": {
      "text/html": [
       "<style>.output{overflow: visible !important}</style>$$v_{1} = \\pi{\\left(v_{2},v_{3},v_{5},v_{6},v_{7} \\right)}$$"
      ],
      "text/plain": [
       "<IPython.core.display.HTML object>"
      ]
     },
     "metadata": {},
     "output_type": "display_data"
    }
   ],
   "source": [
    "dmodel.show()"
   ]
  },
  {
   "cell_type": "markdown",
   "id": "6c1a7e5f-556b-47f2-8cb9-e2a1770e3007",
   "metadata": {},
   "source": [
    "The dimensional matrix of this model can be displayed by:"
   ]
  },
  {
   "cell_type": "code",
   "execution_count": 19,
   "id": "30cc1be3-1cb9-48da-9e93-399937b0783f",
   "metadata": {},
   "outputs": [
    {
     "data": {
      "text/html": [
       "<style>.output{overflow: visible !important}</style>$$\\begin{array}{r|rrrrrr} & v_{1} & v_{2} & v_{3} & v_{5} & v_{6} & v_{7}\\\\ \\hline \\mathtt{\\text{d1}} & \\phantom{-}1 & \\phantom{-}0 & \\phantom{-}2 & \\phantom{-}0 & \\phantom{-}0 & \\phantom{-}4\\\\\\mathtt{\\text{d2}} & \\phantom{-}0 & \\phantom{-}3 & \\phantom{-}0 & -2 & -3 & -1\\\\\\mathtt{\\text{d3}} & -1 & \\phantom{-}1 & -2 & \\phantom{-}1 & \\phantom{-}4 & \\phantom{-}2\\\\\\end{array}$$"
      ],
      "text/plain": [
       "<IPython.core.display.HTML object>"
      ]
     },
     "metadata": {},
     "output_type": "display_data"
    }
   ],
   "source": [
    "dmodel.dimensional_matrix.show()"
   ]
  },
  {
   "cell_type": "markdown",
   "id": "63c8224e-e267-40ca-add0-fe014d41042d",
   "metadata": {},
   "source": [
    "## NonDimensionalModel"
   ]
  },
  {
   "cell_type": "markdown",
   "id": "93a6a987-657e-4b18-afaa-32ce185b97e1",
   "metadata": {},
   "source": [
    "`NonDimensionalModel` is the class used to create a nondimensional model.\n",
    "\n",
    "The concept of scaling parameter is important here. The scaling parameters will be responsible for turning the dimensional model into a nondimensional one. If you do not provide a correct set of scaling variables, `nodimo` will throw an exception. If you want a more flexible approach for creating nondimensional expressions, consider using the class `NonDimensionalModels`.\n",
    "\n",
    "We are going to reuse the previous variables to create our nondimensional model, but first let's redefine some of them to be our scaling parameters:"
   ]
  },
  {
   "cell_type": "code",
   "execution_count": 20,
   "id": "9f56f0a7-6727-43d0-b803-4009b83b9a9d",
   "metadata": {},
   "outputs": [],
   "source": [
    "v3 = Var('v_3', d1=2, d3=-2, scaling=True)\n",
    "v5 = Var('v_5', d1=0, d2=-2, d3=1, scaling=True)\n",
    "v6 = Var('v_6', d2=-3, d3=4, scaling=True)"
   ]
  },
  {
   "cell_type": "markdown",
   "id": "255fe1c8-1f05-41aa-8ca6-95c849fb6b1c",
   "metadata": {},
   "source": [
    "Now we build our nondimensional model:"
   ]
  },
  {
   "cell_type": "code",
   "execution_count": 21,
   "id": "e6a41a7d-2526-4457-be90-a0d230033ab5",
   "metadata": {},
   "outputs": [
    {
     "name": "stdout",
     "output_type": "stream",
     "text": [
      "\u001b[93mVariables that can not be part of the model:\u001b[0m\n",
      "\u001b[93m    v₄\u001b[0m\n",
      "\u001b[93mDimensions that can not be part of the model:\u001b[0m\n",
      "\u001b[93m    d4\u001b[0m\n"
     ]
    }
   ],
   "source": [
    "ndmodel = NonDimensionalModel(v1, v2, v3, v4, v5, v6, v7)"
   ]
  },
  {
   "cell_type": "markdown",
   "id": "ceda3c7a-c24d-4d1f-8d72-1225dd7d42d0",
   "metadata": {},
   "source": [
    "And we display it by:"
   ]
  },
  {
   "cell_type": "code",
   "execution_count": 22,
   "id": "5eb78401-94ea-40de-8b32-062f2e8a21b7",
   "metadata": {},
   "outputs": [
    {
     "data": {
      "text/html": [
       "<style>.output{overflow: visible !important}</style>$$\\frac{v_{1}}{v_{3}^{\\frac{1}{2}}} = \\Pi{\\left(\\frac{v_{2} v_{5}^{3}}{v_{6}},\\frac{v_{5}^{\\frac{14}{5}} v_{7}}{v_{3}^{2} v_{6}^{\\frac{11}{5}}} \\right)}$$"
      ],
      "text/plain": [
       "<IPython.core.display.HTML object>"
      ]
     },
     "metadata": {},
     "output_type": "display_data"
    }
   ],
   "source": [
    "ndmodel.show()"
   ]
  },
  {
   "cell_type": "markdown",
   "id": "578a527e-71a4-486e-b6fc-1abab21f9930",
   "metadata": {},
   "source": [
    "Now you may ask: is it really nondimensional?\n",
    "\n",
    "We can verify that by requesting the `is_nondimensional` attribute of each one of the groups that compose the model. The groups are stored in the `nondimensional_groups` attribute."
   ]
  },
  {
   "cell_type": "code",
   "execution_count": 23,
   "id": "0c8c905f-7681-4d76-89dc-879848ddcd86",
   "metadata": {},
   "outputs": [],
   "source": [
    "for group in ndmodel.nondimensional_groups:\n",
    "    assert group.is_nondimensional"
   ]
  },
  {
   "cell_type": "markdown",
   "id": "1cb35774-939e-4397-8ff2-5770c2847e48",
   "metadata": {},
   "source": [
    "With this generic example you can see that the nondimensional model contains three effective variables (groups), while the dimensional model contains six. This is one the main advantages of using nondimensional expressions."
   ]
  },
  {
   "cell_type": "markdown",
   "id": "6d4d745e-bc60-430d-b207-7214002cc9d6",
   "metadata": {},
   "source": [
    "## NonDimensionalModels"
   ]
  },
  {
   "cell_type": "markdown",
   "id": "186056f6-059c-4b5b-82f3-13946cb5afa1",
   "metadata": {},
   "source": [
    "`NonDimensionalModels` is the class used to create a set of nondimensional models.\n",
    "\n",
    "If you are not sure which variables to choose as scaling parameters, you can set multiple variables as scaling and `nodimo` will build the nodimensional models that are possible. If you don't define any scaling variables, every independent and dimensional variable will be considered scaling.\n",
    "\n",
    "For example, besides `v3`, `v5` and `v6`, let's set `v2` as scaling:"
   ]
  },
  {
   "cell_type": "code",
   "execution_count": 24,
   "id": "c96ee279-3dc9-41f7-a508-777aef12004e",
   "metadata": {},
   "outputs": [],
   "source": [
    "v2.is_scaling = True"
   ]
  },
  {
   "cell_type": "markdown",
   "id": "34beab0c-eaf0-4368-b8e7-8ae3e4a3fc42",
   "metadata": {},
   "source": [
    "Now we can build the collection of nondimensional models by:"
   ]
  },
  {
   "cell_type": "code",
   "execution_count": 25,
   "id": "83f32ebb-fdab-468d-9255-9a1d8a1cbe75",
   "metadata": {},
   "outputs": [],
   "source": [
    "ndmodels = NonDimensionalModels(v1, v2, v3, v4, v5, v6, v7, display_messages=False)"
   ]
  },
  {
   "cell_type": "markdown",
   "id": "9108c3c2-7958-437d-b110-8fcf62be87bb",
   "metadata": {},
   "source": [
    "To display all nondimensional models built with the chosen configuration, just execute the `show` method:"
   ]
  },
  {
   "cell_type": "code",
   "execution_count": 26,
   "id": "4b60ec88-1430-493c-af55-85c1d1a52384",
   "metadata": {},
   "outputs": [
    {
     "data": {
      "text/html": [
       "<style>.output{overflow: visible !important}</style>$$\\text{Scaling group }1\\text{:}\\ v_{2},\\ v_{3},\\ v_{5}$$"
      ],
      "text/plain": [
       "<IPython.core.display.HTML object>"
      ]
     },
     "metadata": {},
     "output_type": "display_data"
    },
    {
     "data": {
      "text/html": [
       "<style>.output{overflow: visible !important}</style>$$\\frac{v_{1}}{v_{3}^{\\frac{1}{2}}} = \\Pi{\\left(\\frac{v_{7}}{v_{2}^{\\frac{11}{5}} v_{3}^{2} v_{5}^{\\frac{19}{5}}},\\frac{v_{6}}{v_{2} v_{5}^{3}} \\right)}$$"
      ],
      "text/plain": [
       "<IPython.core.display.HTML object>"
      ]
     },
     "metadata": {},
     "output_type": "display_data"
    },
    {
     "data": {
      "text/markdown": [
       "<hr>"
      ],
      "text/plain": [
       "<IPython.core.display.Markdown object>"
      ]
     },
     "metadata": {},
     "output_type": "display_data"
    },
    {
     "data": {
      "text/html": [
       "<style>.output{overflow: visible !important}</style>$$\\text{Scaling group }2\\text{:}\\ v_{2},\\ v_{3},\\ v_{6}$$"
      ],
      "text/plain": [
       "<IPython.core.display.HTML object>"
      ]
     },
     "metadata": {},
     "output_type": "display_data"
    },
    {
     "data": {
      "text/html": [
       "<style>.output{overflow: visible !important}</style>$$\\frac{v_{1}}{v_{3}^{\\frac{1}{2}}} = \\Pi{\\left(\\frac{v_{7}}{v_{2}^{\\frac{14}{15}} v_{3}^{2} v_{6}^{\\frac{19}{15}}},\\frac{v_{2}^{\\frac{1}{3}} v_{5}}{v_{6}^{\\frac{1}{3}}} \\right)}$$"
      ],
      "text/plain": [
       "<IPython.core.display.HTML object>"
      ]
     },
     "metadata": {},
     "output_type": "display_data"
    },
    {
     "data": {
      "text/markdown": [
       "<hr>"
      ],
      "text/plain": [
       "<IPython.core.display.Markdown object>"
      ]
     },
     "metadata": {},
     "output_type": "display_data"
    },
    {
     "data": {
      "text/html": [
       "<style>.output{overflow: visible !important}</style>$$\\text{Scaling group }3\\text{:}\\ v_{3},\\ v_{5},\\ v_{6}$$"
      ],
      "text/plain": [
       "<IPython.core.display.HTML object>"
      ]
     },
     "metadata": {},
     "output_type": "display_data"
    },
    {
     "data": {
      "text/html": [
       "<style>.output{overflow: visible !important}</style>$$\\frac{v_{1}}{v_{3}^{\\frac{1}{2}}} = \\Pi{\\left(\\frac{v_{5}^{\\frac{14}{5}} v_{7}}{v_{3}^{2} v_{6}^{\\frac{11}{5}}},\\frac{v_{2} v_{5}^{3}}{v_{6}} \\right)}$$"
      ],
      "text/plain": [
       "<IPython.core.display.HTML object>"
      ]
     },
     "metadata": {},
     "output_type": "display_data"
    },
    {
     "data": {
      "text/markdown": [
       "<hr>"
      ],
      "text/plain": [
       "<IPython.core.display.Markdown object>"
      ]
     },
     "metadata": {},
     "output_type": "display_data"
    }
   ],
   "source": [
    "ndmodels.show()"
   ]
  },
  {
   "cell_type": "markdown",
   "id": "371b5c51-0ead-48c8-b512-bdd859e00b1e",
   "metadata": {},
   "source": [
    "This completes a thorough application of `nodimo` classes. For more information about each one of them, consult the API documentation. For more applications of `nodimo`, check the next tutorials."
   ]
  }
 ],
 "metadata": {
  "kernelspec": {
   "display_name": "Python 3 (ipykernel)",
   "language": "python",
   "name": "python3"
  },
  "language_info": {
   "codemirror_mode": {
    "name": "ipython",
    "version": 3
   },
   "file_extension": ".py",
   "mimetype": "text/x-python",
   "name": "python",
   "nbconvert_exporter": "python",
   "pygments_lexer": "ipython3",
   "version": "3.11.0"
  }
 },
 "nbformat": 4,
 "nbformat_minor": 5
}
