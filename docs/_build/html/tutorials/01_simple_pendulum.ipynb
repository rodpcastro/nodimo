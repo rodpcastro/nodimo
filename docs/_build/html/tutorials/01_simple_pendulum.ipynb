{
 "cells": [
  {
   "cell_type": "markdown",
   "id": "2bf7f295-a6ea-4a4c-aa4c-df1bf5eb8bf0",
   "metadata": {},
   "source": [
    "# Simple Pendulum"
   ]
  },
  {
   "cell_type": "markdown",
   "id": "525a36f2-bbc9-4942-8733-e8c888210e90",
   "metadata": {},
   "source": [
    "The objective here is to obtain a nondimensional representation of the pendulum's period `T` as a function of the variables depicted in the figure below."
   ]
  },
  {
   "cell_type": "markdown",
   "id": "1bbab44b-ee18-4507-a92c-1727a09573db",
   "metadata": {},
   "source": [
    "<center><img src=\"drawings/01_simple_pendulum.svg\" width=\"250\"/></center>"
   ]
  },
  {
   "cell_type": "markdown",
   "id": "c6a1316b-b901-4254-98f3-2bbc9dc63fcd",
   "metadata": {},
   "source": [
    "We start by importing the necessary classes from `nodimo`:"
   ]
  },
  {
   "cell_type": "code",
   "execution_count": 1,
   "id": "7a1def50-c317-4ae6-946b-0a2a206cbf87",
   "metadata": {},
   "outputs": [],
   "source": [
    "from nodimo import Variable, NonDimensionalModel"
   ]
  },
  {
   "cell_type": "markdown",
   "id": "6e1093dc-d5dd-4b1e-8211-85f4df115e42",
   "metadata": {},
   "source": [
    "Next, we define the variables that compose the problem. Note the arguments used:\n",
    "\n",
    "* The arguments `M`, `L` and `T` represent the dimensions Mass, Length and Time, respectively\n",
    "* The Period `T` is the dependent variable, hence the argument `dependent=True`\n",
    "* The variables `L` and `g` are used as scaling parameters, therefore the argument `scaling=True`"
   ]
  },
  {
   "cell_type": "code",
   "execution_count": 2,
   "id": "9ee7753b-6d3d-499b-b7d2-391d2718ddcd",
   "metadata": {},
   "outputs": [],
   "source": [
    "T = Variable('T', M=0, L=0, T=1, dependent=True)  # Period\n",
    "L = Variable('L', M=0, L=1, T=0, scaling=True)    # Length\n",
    "m = Variable('m', M=1, L=0, T=0)                  # Mass\n",
    "g = Variable('g', M=0, L=1, T=-2, scaling=True)   # Gravity\n",
    "t0 = Variable('theta_0')                          # Initial angle"
   ]
  },
  {
   "cell_type": "markdown",
   "id": "231cde5c-0ba4-44e3-bb29-e095bab3be83",
   "metadata": {},
   "source": [
    "Finaly, the nondimensional model is defined. Note that, in the output of the cell, Nodimo detects that the variable `m` and the dimension `M` can not be part of the model."
   ]
  },
  {
   "cell_type": "code",
   "execution_count": 3,
   "id": "e4043a4b-b956-42d9-b884-ef519758cf05",
   "metadata": {},
   "outputs": [
    {
     "name": "stdout",
     "output_type": "stream",
     "text": [
      "\u001b[93mVariables that can not be part of the model:\u001b[0m\n",
      "\u001b[93m    m\u001b[0m\n",
      "\u001b[93mDimensions that can not be part of the model:\u001b[0m\n",
      "\u001b[93m    M\u001b[0m\n"
     ]
    }
   ],
   "source": [
    "ndmodel = NonDimensionalModel(T, L, m, g, t0)"
   ]
  },
  {
   "cell_type": "markdown",
   "id": "289ef4e7-2b5a-410e-a1cb-6e0fb4fade0e",
   "metadata": {},
   "source": [
    "The dimensional and nondimensional functions can be displayed by:"
   ]
  },
  {
   "cell_type": "code",
   "execution_count": 4,
   "id": "fb680038-e417-4d3c-8758-0b01c97d455d",
   "metadata": {},
   "outputs": [
    {
     "data": {
      "text/html": [
       "<style>.output{overflow: visible !important}</style>$$T = \\pi{\\left(L,g,\\theta_{0} \\right)}$$"
      ],
      "text/plain": [
       "<IPython.core.display.HTML object>"
      ]
     },
     "metadata": {},
     "output_type": "display_data"
    },
    {
     "data": {
      "text/html": [
       "<style>.output{overflow: visible !important}</style>$$\\frac{T g^{\\frac{1}{2}}}{L^{\\frac{1}{2}}} = \\Pi{\\left(\\theta_{0} \\right)}$$"
      ],
      "text/plain": [
       "<IPython.core.display.HTML object>"
      ]
     },
     "metadata": {},
     "output_type": "display_data"
    }
   ],
   "source": [
    "ndmodel.dimensional_function.show()\n",
    "ndmodel.show()"
   ]
  },
  {
   "cell_type": "markdown",
   "id": "d862bfda-2043-450b-b0b8-8cae20046ccd",
   "metadata": {},
   "source": [
    "As you can see, the dimensional expression provides a relationship between 4 variables, while the nondimensional one has 2 effective variables (groups). This is one the main advantages of building nondimensional relations between variables."
   ]
  }
 ],
 "metadata": {
  "kernelspec": {
   "display_name": "Python 3 (ipykernel)",
   "language": "python",
   "name": "python3"
  },
  "language_info": {
   "codemirror_mode": {
    "name": "ipython",
    "version": 3
   },
   "file_extension": ".py",
   "mimetype": "text/x-python",
   "name": "python",
   "nbconvert_exporter": "python",
   "pygments_lexer": "ipython3",
   "version": "3.11.0"
  }
 },
 "nbformat": 4,
 "nbformat_minor": 5
}
