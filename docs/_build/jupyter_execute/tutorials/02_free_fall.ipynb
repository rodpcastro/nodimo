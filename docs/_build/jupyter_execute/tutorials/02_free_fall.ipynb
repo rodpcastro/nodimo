{
 "cells": [
  {
   "cell_type": "markdown",
   "id": "2bf7f295-a6ea-4a4c-aa4c-df1bf5eb8bf0",
   "metadata": {},
   "source": [
    "# Free Fall"
   ]
  },
  {
   "cell_type": "code",
   "execution_count": 1,
   "id": "7a1def50-c317-4ae6-946b-0a2a206cbf87",
   "metadata": {},
   "outputs": [],
   "source": [
    "from nodimo import Variable, NonDimensionalModels"
   ]
  },
  {
   "cell_type": "code",
   "execution_count": 2,
   "id": "9ee7753b-6d3d-499b-b7d2-391d2718ddcd",
   "metadata": {},
   "outputs": [],
   "source": [
    "z = Variable('z', L=1, dependent=True)\n",
    "m = Variable('m', M=1)\n",
    "v = Variable('v', L=1, T=-1)\n",
    "g = Variable('g', L=1, T=-2, scaling=True)\n",
    "t = Variable('t', T=1)\n",
    "z0 = Variable('z_0', L=1, scaling=True)\n",
    "v0 = Variable('v_0', L=1, T=-1, scaling=True)"
   ]
  },
  {
   "cell_type": "code",
   "execution_count": 3,
   "id": "e4043a4b-b956-42d9-b884-ef519758cf05",
   "metadata": {},
   "outputs": [
    {
     "name": "stdout",
     "output_type": "stream",
     "text": [
      "Variables that can not be part of the model:\n",
      "    m\n",
      "Dimensions that can not be part of the model:\n",
      "    M\n"
     ]
    }
   ],
   "source": [
    "ndmodels = NonDimensionalModels(z, m, v, g, t, z0, v0)"
   ]
  },
  {
   "cell_type": "code",
   "execution_count": 4,
   "id": "fb680038-e417-4d3c-8758-0b01c97d455d",
   "metadata": {},
   "outputs": [
    {
     "data": {
      "text/latex": [
       "$\\displaystyle \\text{Scaling group }1\\text{:}\\ g,\\ z_{0}$"
      ],
      "text/plain": [
       "<IPython.core.display.Math object>"
      ]
     },
     "metadata": {},
     "output_type": "display_data"
    },
    {
     "data": {
      "text/latex": [
       "$\\displaystyle \\frac{z}{z_{0}} = \\Pi{\\left(\\frac{v}{g^{\\frac{1}{2}} z_{0}^{\\frac{1}{2}}},\\frac{g^{\\frac{1}{2}} t}{z_{0}^{\\frac{1}{2}}},\\frac{v_{0}}{g^{\\frac{1}{2}} z_{0}^{\\frac{1}{2}}} \\right)}$"
      ],
      "text/plain": [
       "z     ⎛    v       √g⋅t       v₀   ⎞\n",
       "── = Π⎜─────────, ──────, ─────────⎟\n",
       "z₀    ⎜     ____    ____       ____⎟\n",
       "      ⎝√g⋅╲╱ z₀   ╲╱ z₀   √g⋅╲╱ z₀ ⎠"
      ]
     },
     "metadata": {},
     "output_type": "display_data"
    },
    {
     "data": {
      "text/markdown": [
       "<hr>"
      ],
      "text/plain": [
       "<IPython.core.display.Markdown object>"
      ]
     },
     "metadata": {},
     "output_type": "display_data"
    },
    {
     "data": {
      "text/latex": [
       "$\\displaystyle \\text{Scaling group }2\\text{:}\\ g,\\ v_{0}$"
      ],
      "text/plain": [
       "<IPython.core.display.Math object>"
      ]
     },
     "metadata": {},
     "output_type": "display_data"
    },
    {
     "data": {
      "text/latex": [
       "$\\displaystyle \\frac{g z}{v_{0}^{2}} = \\Pi{\\left(\\frac{v}{v_{0}},\\frac{g t}{v_{0}},\\frac{g z_{0}}{v_{0}^{2}} \\right)}$"
      ],
      "text/plain": [
       "g⋅z    ⎛v   g⋅t  g⋅z₀⎞\n",
       "─── = Π⎜──, ───, ────⎟\n",
       "  2    ⎜v₀   v₀    2 ⎟\n",
       "v₀     ⎝         v₀  ⎠"
      ]
     },
     "metadata": {},
     "output_type": "display_data"
    },
    {
     "data": {
      "text/markdown": [
       "<hr>"
      ],
      "text/plain": [
       "<IPython.core.display.Markdown object>"
      ]
     },
     "metadata": {},
     "output_type": "display_data"
    },
    {
     "data": {
      "text/latex": [
       "$\\displaystyle \\text{Scaling group }3\\text{:}\\ z_{0},\\ v_{0}$"
      ],
      "text/plain": [
       "<IPython.core.display.Math object>"
      ]
     },
     "metadata": {},
     "output_type": "display_data"
    },
    {
     "data": {
      "text/latex": [
       "$\\displaystyle \\frac{z}{z_{0}} = \\Pi{\\left(\\frac{v}{v_{0}},\\frac{t v_{0}}{z_{0}},\\frac{g z_{0}}{v_{0}^{2}} \\right)}$"
      ],
      "text/plain": [
       "z     ⎛v   t⋅v₀  g⋅z₀⎞\n",
       "── = Π⎜──, ────, ────⎟\n",
       "z₀    ⎜v₀   z₀     2 ⎟\n",
       "      ⎝          v₀  ⎠"
      ]
     },
     "metadata": {},
     "output_type": "display_data"
    },
    {
     "data": {
      "text/markdown": [
       "<hr>"
      ],
      "text/plain": [
       "<IPython.core.display.Markdown object>"
      ]
     },
     "metadata": {},
     "output_type": "display_data"
    }
   ],
   "source": [
    "ndmodels.show()"
   ]
  }
 ],
 "metadata": {
  "kernelspec": {
   "display_name": "Python 3 (ipykernel)",
   "language": "python",
   "name": "python3"
  },
  "language_info": {
   "codemirror_mode": {
    "name": "ipython",
    "version": 3
   },
   "file_extension": ".py",
   "mimetype": "text/x-python",
   "name": "python",
   "nbconvert_exporter": "python",
   "pygments_lexer": "ipython3",
   "version": "3.11.0"
  }
 },
 "nbformat": 4,
 "nbformat_minor": 5
}