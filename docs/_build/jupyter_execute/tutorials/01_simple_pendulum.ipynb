{
 "cells": [
  {
   "cell_type": "markdown",
   "id": "2bf7f295-a6ea-4a4c-aa4c-df1bf5eb8bf0",
   "metadata": {},
   "source": [
    "# Simple Pendulum"
   ]
  },
  {
   "cell_type": "code",
   "execution_count": 1,
   "id": "7a1def50-c317-4ae6-946b-0a2a206cbf87",
   "metadata": {},
   "outputs": [],
   "source": [
    "from nodimo import Variable, NonDimensionalModel"
   ]
  },
  {
   "cell_type": "code",
   "execution_count": 2,
   "id": "9ee7753b-6d3d-499b-b7d2-391d2718ddcd",
   "metadata": {},
   "outputs": [],
   "source": [
    "T = Variable('T', M=0, L=0, T=1, dependent=True)\n",
    "L = Variable('L', M=0, L=1, T=0, scaling=True)\n",
    "m = Variable('m', M=1, L=0, T=0)\n",
    "g = Variable('g', M=0, L=1, T=-2, scaling=True)\n",
    "t0 = Variable('theta_0')"
   ]
  },
  {
   "cell_type": "code",
   "execution_count": 3,
   "id": "e4043a4b-b956-42d9-b884-ef519758cf05",
   "metadata": {},
   "outputs": [
    {
     "name": "stdout",
     "output_type": "stream",
     "text": [
      "Variables that can not be part of the model:\n",
      "    m\n",
      "Dimensions that can not be part of the model:\n",
      "    M\n"
     ]
    }
   ],
   "source": [
    "ndmodel = NonDimensionalModel(T, L, m, g, t0)"
   ]
  },
  {
   "cell_type": "code",
   "execution_count": 4,
   "id": "fb680038-e417-4d3c-8758-0b01c97d455d",
   "metadata": {},
   "outputs": [
    {
     "data": {
      "text/latex": [
       "$\\displaystyle \\frac{T g^{\\frac{1}{2}}}{L^{\\frac{1}{2}}} = \\Pi{\\left(\\theta_{0} \\right)}$"
      ],
      "text/plain": [
       "T⋅√g        \n",
       "──── = Π(θ₀)\n",
       " √L         "
      ]
     },
     "metadata": {},
     "output_type": "display_data"
    }
   ],
   "source": [
    "ndmodel.show()"
   ]
  }
 ],
 "metadata": {
  "kernelspec": {
   "display_name": "Python 3 (ipykernel)",
   "language": "python",
   "name": "python3"
  },
  "language_info": {
   "codemirror_mode": {
    "name": "ipython",
    "version": 3
   },
   "file_extension": ".py",
   "mimetype": "text/x-python",
   "name": "python",
   "nbconvert_exporter": "python",
   "pygments_lexer": "ipython3",
   "version": "3.11.0"
  }
 },
 "nbformat": 4,
 "nbformat_minor": 5
}